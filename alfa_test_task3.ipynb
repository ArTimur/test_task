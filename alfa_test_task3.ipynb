{
 "cells": [
  {
   "attachments": {},
   "cell_type": "markdown",
   "metadata": {},
   "source": [
    "<a id='task_3'></a>\n",
    "## Задание 3 (когортный анализ)"
   ]
  },
  {
   "attachments": {},
   "cell_type": "markdown",
   "metadata": {},
   "source": [
    "Приведите в качестве решения скриншот с результатом, а также свои комментарии относительно предложенного решения (с указанием среды, в которой решали задания).  \n",
    "\n",
    "В приложенном файле хранятся данные об активности клиентов с сентября 2021 года по февраль 2022  \n",
    "Необходимо на основе этих данных провести когортный анализ  \n",
    "\n",
    "Данные: https://raw.githubusercontent.com/Propsih/test/main/data_test.csv  \n",
    "\n",
    "Описание полей: \n",
    "* CLIENT_ID - идентификатор клиента; \n",
    "* VALUE_DAY - отчетная дата; \n",
    "* DIGITAL_30_CNT - кол-во входов в мобильное приложение за последние 30 дней на отчетную дату; \n",
    "* TRAN_ACTIVE_30_CNT - кол-во транзакций в мобильном приложение за последние 30 дней на отчетную дату; \n",
    "* OPER_ACTIVE_30_CNT - кол-во операций (транзакции+нефинансовые операции) в мобильном приложение за последние 30 дней на отчетную дату\n",
    "\n",
    "Задачи:\n",
    "\n",
    "*\tпостройте визуальное представление удержания клиентов в статусе:  \n",
    "    +\tактивных клиентов банка (наличие строки для клиента на отчетную дату);  \n",
    "    +\tдиджитал активных (активных в мобильном приложении: наличие хотя бы одного входа);  \n",
    "    +\tоперационно активных;  \n",
    "    +\tтранзакционно активных;  \n",
    "*\tкакие выводы можно сделать на основе этих данных?;  \n",
    "*\tесли построить проникновение транзакционно активных клиентов в когорты диджитал активных клиентов, то мы увидим, что существенная часть клиентов  использует мобильное приложение, но не совершает транзакции (платежи и переводы) в нем. Какие гипотезы такого поведения можно предположить? Как их можно  проверить ?;  \n",
    "*\tкак можно исправить эту ситуацию и увеличить проникновение транзакционно активных клиентов в диджитал активных?"
   ]
  },
  {
   "attachments": {},
   "cell_type": "markdown",
   "metadata": {},
   "source": [
    "<a id='task_3_EDA'></a>\n",
    "\n",
    "## Данное задание буду решать при помощи языка программирования python3  \n",
    "используемые библиотеки:  \n",
    "- pandas - анализ данных и вычисления;  \n",
    "- matplotlib и seaborn для визуализации.\n",
    "\n",
    "весь код будет скрыт, с полной версией можно ознакомиться по ссылке: https://github.com/ArTimur/test_task/blob/main/alfa_test2.ipynb"
   ]
  },
  {
   "attachments": {},
   "cell_type": "markdown",
   "metadata": {},
   "source": [
    "## Приступим, загрузим и изучим данные:"
   ]
  },
  {
   "cell_type": "code",
   "execution_count": 2,
   "metadata": {},
   "outputs": [
    {
     "name": "stderr",
     "output_type": "stream",
     "text": [
      "c:\\Anaconda\\lib\\site-packages\\scipy\\__init__.py:146: UserWarning: A NumPy version >=1.16.5 and <1.23.0 is required for this version of SciPy (detected version 1.23.5\n",
      "  warnings.warn(f\"A NumPy version >={np_minversion} and <{np_maxversion}\"\n"
     ]
    }
   ],
   "source": [
    "import pandas as pd\n",
    "import numpy as np\n",
    "import matplotlib.pyplot as plt\n",
    "import seaborn as sns\n",
    "from datetime import datetime"
   ]
  },
  {
   "cell_type": "code",
   "execution_count": 3,
   "metadata": {},
   "outputs": [],
   "source": [
    "custom_date_parser = lambda x: datetime.strptime(x, \"%d.%m.%Y\")\n",
    "df = pd.read_csv('https://raw.githubusercontent.com/Propsih/test/main/data_test.csv',\n",
    "                  sep=\";\", parse_dates=['VALUE_DAY'], date_parser=custom_date_parser)"
   ]
  },
  {
   "attachments": {},
   "cell_type": "markdown",
   "metadata": {},
   "source": [
    "### посмотрим на несколько первых строк данных:"
   ]
  },
  {
   "cell_type": "code",
   "execution_count": 4,
   "metadata": {},
   "outputs": [
    {
     "data": {
      "text/html": [
       "<div>\n",
       "<style scoped>\n",
       "    .dataframe tbody tr th:only-of-type {\n",
       "        vertical-align: middle;\n",
       "    }\n",
       "\n",
       "    .dataframe tbody tr th {\n",
       "        vertical-align: top;\n",
       "    }\n",
       "\n",
       "    .dataframe thead th {\n",
       "        text-align: right;\n",
       "    }\n",
       "</style>\n",
       "<table border=\"1\" class=\"dataframe\">\n",
       "  <thead>\n",
       "    <tr style=\"text-align: right;\">\n",
       "      <th></th>\n",
       "      <th>CLIENT_ID</th>\n",
       "      <th>VALUE_DAY</th>\n",
       "      <th>DIGITAL_30_CNT</th>\n",
       "      <th>TRAN_ACTIVE_30_CNT</th>\n",
       "      <th>OPER_ACTIVE_30_CNT</th>\n",
       "    </tr>\n",
       "  </thead>\n",
       "  <tbody>\n",
       "    <tr>\n",
       "      <th>0</th>\n",
       "      <td>3596869440</td>\n",
       "      <td>2021-09-30</td>\n",
       "      <td>18.0</td>\n",
       "      <td>8.0</td>\n",
       "      <td>9.0</td>\n",
       "    </tr>\n",
       "    <tr>\n",
       "      <th>1</th>\n",
       "      <td>181778433</td>\n",
       "      <td>2021-09-30</td>\n",
       "      <td>7.0</td>\n",
       "      <td>3.0</td>\n",
       "      <td>3.0</td>\n",
       "    </tr>\n",
       "    <tr>\n",
       "      <th>2</th>\n",
       "      <td>4271531990</td>\n",
       "      <td>2021-09-30</td>\n",
       "      <td>2.0</td>\n",
       "      <td>0.0</td>\n",
       "      <td>0.0</td>\n",
       "    </tr>\n",
       "    <tr>\n",
       "      <th>3</th>\n",
       "      <td>3949165697</td>\n",
       "      <td>2021-09-30</td>\n",
       "      <td>15.0</td>\n",
       "      <td>4.0</td>\n",
       "      <td>5.0</td>\n",
       "    </tr>\n",
       "    <tr>\n",
       "      <th>4</th>\n",
       "      <td>1926920317</td>\n",
       "      <td>2021-09-30</td>\n",
       "      <td>3.0</td>\n",
       "      <td>0.0</td>\n",
       "      <td>0.0</td>\n",
       "    </tr>\n",
       "  </tbody>\n",
       "</table>\n",
       "</div>"
      ],
      "text/plain": [
       "    CLIENT_ID  VALUE_DAY  DIGITAL_30_CNT  TRAN_ACTIVE_30_CNT  \\\n",
       "0  3596869440 2021-09-30            18.0                 8.0   \n",
       "1   181778433 2021-09-30             7.0                 3.0   \n",
       "2  4271531990 2021-09-30             2.0                 0.0   \n",
       "3  3949165697 2021-09-30            15.0                 4.0   \n",
       "4  1926920317 2021-09-30             3.0                 0.0   \n",
       "\n",
       "   OPER_ACTIVE_30_CNT  \n",
       "0                 9.0  \n",
       "1                 3.0  \n",
       "2                 0.0  \n",
       "3                 5.0  \n",
       "4                 0.0  "
      ]
     },
     "execution_count": 4,
     "metadata": {},
     "output_type": "execute_result"
    }
   ],
   "source": [
    "df.head(5)"
   ]
  },
  {
   "attachments": {},
   "cell_type": "markdown",
   "metadata": {},
   "source": [
    "### что из себя представляет набор (кол-во и тип данных):"
   ]
  },
  {
   "cell_type": "code",
   "execution_count": 5,
   "metadata": {},
   "outputs": [
    {
     "name": "stdout",
     "output_type": "stream",
     "text": [
      "<class 'pandas.core.frame.DataFrame'>\n",
      "RangeIndex: 805821 entries, 0 to 805820\n",
      "Data columns (total 5 columns):\n",
      " #   Column              Non-Null Count   Dtype         \n",
      "---  ------              --------------   -----         \n",
      " 0   CLIENT_ID           805821 non-null  int64         \n",
      " 1   VALUE_DAY           805821 non-null  datetime64[ns]\n",
      " 2   DIGITAL_30_CNT      711169 non-null  float64       \n",
      " 3   TRAN_ACTIVE_30_CNT  711169 non-null  float64       \n",
      " 4   OPER_ACTIVE_30_CNT  711169 non-null  float64       \n",
      "dtypes: datetime64[ns](1), float64(3), int64(1)\n",
      "memory usage: 30.7 MB\n"
     ]
    }
   ],
   "source": [
    "df.info()"
   ]
  },
  {
   "attachments": {},
   "cell_type": "markdown",
   "metadata": {},
   "source": [
    "### количество уникальных клиентов:"
   ]
  },
  {
   "cell_type": "code",
   "execution_count": 6,
   "metadata": {},
   "outputs": [
    {
     "name": "stdout",
     "output_type": "stream",
     "text": [
      "169092 клиента\n"
     ]
    }
   ],
   "source": [
    "print(df.CLIENT_ID.nunique(), \"клиента\")"
   ]
  },
  {
   "attachments": {},
   "cell_type": "markdown",
   "metadata": {},
   "source": [
    "### считаем пропущенные данные:"
   ]
  },
  {
   "cell_type": "code",
   "execution_count": 7,
   "metadata": {},
   "outputs": [
    {
     "data": {
      "text/plain": [
       "CLIENT_ID                 0\n",
       "VALUE_DAY                 0\n",
       "DIGITAL_30_CNT        94652\n",
       "TRAN_ACTIVE_30_CNT    94652\n",
       "OPER_ACTIVE_30_CNT    94652\n",
       "dtype: int64"
      ]
     },
     "execution_count": 7,
     "metadata": {},
     "output_type": "execute_result"
    }
   ],
   "source": [
    "df.isna().sum()"
   ]
  },
  {
   "attachments": {},
   "cell_type": "markdown",
   "metadata": {},
   "source": [
    "### 94652 значения отсутствует. Похоже на то, что если данные отсутствуют по одному показателю, то их нет и по остальным. Но необходимо это проверить:  \n",
    "### отфильтрую все пустые значения по столбцу \"DIGITAL_30_CNT\" (например)  и просуммирую все три показателя. "
   ]
  },
  {
   "cell_type": "code",
   "execution_count": 8,
   "metadata": {},
   "outputs": [
    {
     "data": {
      "text/plain": [
       "DIGITAL_30_CNT        0.0\n",
       "TRAN_ACTIVE_30_CNT    0.0\n",
       "OPER_ACTIVE_30_CNT    0.0\n",
       "dtype: float64"
      ]
     },
     "execution_count": 8,
     "metadata": {},
     "output_type": "execute_result"
    }
   ],
   "source": [
    "df.query(\"DIGITAL_30_CNT.isna()\")[['DIGITAL_30_CNT', 'TRAN_ACTIVE_30_CNT', 'OPER_ACTIVE_30_CNT']].sum()"
   ]
  },
  {
   "attachments": {},
   "cell_type": "markdown",
   "metadata": {},
   "source": [
    "### Так как все данные показетелей равны нулю, то утверждаемся в мысли, что в датасете представленны:  \n",
    "1) все клиенты банка, которые проявляют активность как оф, так и онлайн - все уникальные клиенты в датасете;  \n",
    "2) клиенты, по которым есть показатели, - имеют установленное мобильное приложение.  \n",
    "- могут в него заходить (DIGITAL_30_CNT);\n",
    "- совершать транзакции (TRAN_ACTIVE_30_CNT);\n",
    "- проводить нефинансовые операции (OPER_ACTIVE_30_CNT).\n",
    "    \n",
    "\n",
    "\n",
    ">У меня были сложности с интерпретацией задачи, т.к. я обнаружил, что есть клиенты, которые не заходили в мобильный банк в течении отчетного месяца, но при этом совершали транзакции/операции.  \n",
    "Не могу понять как это возможно. Предположил, что транзакции и операции могли быть сделаны офлайн, но в описании полей указано - мобильное приложение.    \n",
    "\n",
    ">После длительных рассуждений сделал допущения: либо я знаю не все (например, операцией может быть получение документа, заказанного ранее), либо есть ошибка в данных. С этим обязательно надо разбираться отдельно, тк от этого зависит корретность дальнейшего отчета и выводы.\n",
    "Пример нестыковок:"
   ]
  },
  {
   "cell_type": "code",
   "execution_count": 9,
   "metadata": {},
   "outputs": [
    {
     "data": {
      "text/html": [
       "<div>\n",
       "<style scoped>\n",
       "    .dataframe tbody tr th:only-of-type {\n",
       "        vertical-align: middle;\n",
       "    }\n",
       "\n",
       "    .dataframe tbody tr th {\n",
       "        vertical-align: top;\n",
       "    }\n",
       "\n",
       "    .dataframe thead th {\n",
       "        text-align: right;\n",
       "    }\n",
       "</style>\n",
       "<table border=\"1\" class=\"dataframe\">\n",
       "  <thead>\n",
       "    <tr style=\"text-align: right;\">\n",
       "      <th></th>\n",
       "      <th></th>\n",
       "      <th>DIGITAL_30_CNT</th>\n",
       "      <th>TRAN_ACTIVE_30_CNT</th>\n",
       "      <th>OPER_ACTIVE_30_CNT</th>\n",
       "    </tr>\n",
       "    <tr>\n",
       "      <th>CLIENT_ID</th>\n",
       "      <th>VALUE_DAY</th>\n",
       "      <th></th>\n",
       "      <th></th>\n",
       "      <th></th>\n",
       "    </tr>\n",
       "  </thead>\n",
       "  <tbody>\n",
       "    <tr>\n",
       "      <th>17866400</th>\n",
       "      <th>2021-12-31</th>\n",
       "      <td>0.0</td>\n",
       "      <td>1.0</td>\n",
       "      <td>1.0</td>\n",
       "    </tr>\n",
       "    <tr>\n",
       "      <th>19677355</th>\n",
       "      <th>2022-01-31</th>\n",
       "      <td>0.0</td>\n",
       "      <td>2.0</td>\n",
       "      <td>2.0</td>\n",
       "    </tr>\n",
       "    <tr>\n",
       "      <th rowspan=\"2\" valign=\"top\">20338831</th>\n",
       "      <th>2021-10-31</th>\n",
       "      <td>0.0</td>\n",
       "      <td>1.0</td>\n",
       "      <td>1.0</td>\n",
       "    </tr>\n",
       "    <tr>\n",
       "      <th>2021-11-30</th>\n",
       "      <td>0.0</td>\n",
       "      <td>1.0</td>\n",
       "      <td>1.0</td>\n",
       "    </tr>\n",
       "    <tr>\n",
       "      <th>22256088</th>\n",
       "      <th>2021-09-30</th>\n",
       "      <td>0.0</td>\n",
       "      <td>1.0</td>\n",
       "      <td>1.0</td>\n",
       "    </tr>\n",
       "  </tbody>\n",
       "</table>\n",
       "</div>"
      ],
      "text/plain": [
       "                      DIGITAL_30_CNT  TRAN_ACTIVE_30_CNT  OPER_ACTIVE_30_CNT\n",
       "CLIENT_ID VALUE_DAY                                                         \n",
       "17866400  2021-12-31             0.0                 1.0                 1.0\n",
       "19677355  2022-01-31             0.0                 2.0                 2.0\n",
       "20338831  2021-10-31             0.0                 1.0                 1.0\n",
       "          2021-11-30             0.0                 1.0                 1.0\n",
       "22256088  2021-09-30             0.0                 1.0                 1.0"
      ]
     },
     "execution_count": 9,
     "metadata": {},
     "output_type": "execute_result"
    }
   ],
   "source": [
    "df.groupby(['CLIENT_ID', 'VALUE_DAY']).sum().query(\"DIGITAL_30_CNT == 0 and (TRAN_ACTIVE_30_CNT > 0 or OPER_ACTIVE_30_CNT > 0)\").head()"
   ]
  },
  {
   "cell_type": "code",
   "execution_count": 10,
   "metadata": {},
   "outputs": [
    {
     "name": "stdout",
     "output_type": "stream",
     "text": [
      "всего таких записей 2490 шт\n",
      "по уникальным клиентам в кол-ве 1433 шт\n"
     ]
    }
   ],
   "source": [
    "print(\"всего таких записей\", df.groupby(['CLIENT_ID', 'VALUE_DAY']).sum().query(\"DIGITAL_30_CNT == 0 and (TRAN_ACTIVE_30_CNT > 0 or OPER_ACTIVE_30_CNT > 0)\").shape[0], \"шт\")\n",
    "print(\"по уникальным клиентам в кол-ве\", df.groupby(['CLIENT_ID', 'VALUE_DAY']).sum().query(\"DIGITAL_30_CNT == 0 and (TRAN_ACTIVE_30_CNT > 0 or OPER_ACTIVE_30_CNT > 0)\").index.get_level_values(0).nunique(), \"шт\")"
   ]
  },
  {
   "cell_type": "code",
   "execution_count": 11,
   "metadata": {},
   "outputs": [],
   "source": [
    "# df2 = df.copy()"
   ]
  },
  {
   "cell_type": "code",
   "execution_count": 12,
   "metadata": {},
   "outputs": [],
   "source": [
    "# df2['DIGITAL_30_True'] = np.where(df.DIGITAL_30_CNT > 0, True, False)\n",
    "# df2['TRAN_ACTIVE_30_True'] = np.where(df.TRAN_ACTIVE_30_CNT > 0, True, False)\n",
    "# df2['OPER_ACTIVE_30_True'] = np.where(df.OPER_ACTIVE_30_CNT > 0, True, False)\n",
    "# df2"
   ]
  },
  {
   "cell_type": "code",
   "execution_count": 13,
   "metadata": {},
   "outputs": [],
   "source": [
    "# df2.groupby(['VALUE_DAY'])[['DIGITAL_30_True', 'TRAN_ACTIVE_30_True', 'OPER_ACTIVE_30_True']].sum()"
   ]
  },
  {
   "attachments": {},
   "cell_type": "markdown",
   "metadata": {},
   "source": [
    "<a id='task_3_solution_v'></a>\n",
    "\n",
    "## Построим визуальное представление удержания клиентов в статусе:  \n",
    "- активных клиентов банка (наличие строки для клиента на отчетную дату);  \n",
    "- диджитал активных (активных в мобильном приложении: наличие хотя бы одного входа);  \n",
    "- операционно активных;  \n",
    "- транзакционно активных; \n",
    "\n",
    "## Для этого выполним ряд расчетов:\n",
    "\n",
    "1) Найдем дату первого взаимодействия каждого пользователя с системой (определим его когорту)  \n",
    "2) Вычислим жизненный цикл когорты в месяцах для каждого пользователя (VALUE_DAY минус дата первого взаимодействия)  \n",
    "3) Посчитаем кол-во пользователей на каждом жизненном цикле каждой когорты  \n",
    "4) Определим первоначальный состав когорт  \n",
    "5) Посчитаем retention по формуле: кол-во пользователей на определенном жизненном цикле когорты / кол-во пользователей в первоначальном составе когорты  \n",
    "\n",
    "## Построим одну визуализацию для всех статусов, это облегчит восприятие и последующий анализ.\n",
    "По оси X - retention по мес: 1 (окт 21) по 5 (февраль 22) (0 месяц пропущу, чтобы не нагружать график лишней информацией). Также отражу первоначальный размер когорты (coh size)  \n",
    "\n",
    "По оси Y - когорты\n"
   ]
  },
  {
   "cell_type": "code",
   "execution_count": 14,
   "metadata": {},
   "outputs": [],
   "source": [
    "def cohort_analysis(df: pd.DataFrame, title: str):\n",
    "  # находим дату первого взаимодействия каждого пользователя с системой (определяем его когорту) и добавляем соотвествующий столбец\n",
    "  df_reg = df.groupby(\"CLIENT_ID\", as_index=False).agg({'VALUE_DAY' : 'min'})\n",
    "  df_reg.columns = ['CLIENT_ID', 'registration_date']\n",
    "  df_merged = df.merge(df_reg, how='left', on='CLIENT_ID')\n",
    "  \n",
    "  # вычисляем жизненный цикл когорты\n",
    "  df_merged['cohort_lifetime'] = round((df_merged.VALUE_DAY - df_merged.registration_date)/np.timedelta64(1, 'M'), 0) \\\n",
    "    .astype(int)\n",
    "  \n",
    "  # считаем кол-во пользователей на каждом жизненном цикле каждой когорты\n",
    "  cohorts = df_merged.pivot_table(index = ['registration_date','cohort_lifetime'], \n",
    "                                  aggfunc = {'CLIENT_ID':'nunique'}).reset_index()\n",
    "  \n",
    "  # определяем первоначальный состав когорты (кол-во клиентов)\n",
    "  initial_users_count = cohorts[cohorts['cohort_lifetime'] == 0]\n",
    "  initial_users_count = initial_users_count[['registration_date','CLIENT_ID']]\n",
    "  initial_users_count = initial_users_count.rename(columns={'CLIENT_ID':'cohort_users'})\n",
    "\n",
    "  # считаем retention\n",
    "  cohorts = cohorts.merge(initial_users_count,on='registration_date')\n",
    "  cohorts['retention'] = cohorts['CLIENT_ID']/cohorts['cohort_users'] \n",
    "  retention_pivot = cohorts.pivot_table(index='registration_date',\n",
    "                                        columns='cohort_lifetime',\n",
    "                                        values='retention',\n",
    "                                        aggfunc='sum') \n",
    "  \n",
    "  return retention_pivot, initial_users_count"
   ]
  },
  {
   "cell_type": "code",
   "execution_count": 15,
   "metadata": {},
   "outputs": [],
   "source": [
    "# считаем retention для \n",
    "cohort_active = cohort_analysis(df, 'active')[0]\n",
    "cohort_digital_active = cohort_analysis(df.query('DIGITAL_30_CNT > 0'), 'digital active')[0]\n",
    "cohort_oper_active = cohort_analysis(df.query('OPER_ACTIVE_30_CNT > 0'), 'oper active')[0]\n",
    "cohort_trans_active = cohort_analysis(df.query('TRAN_ACTIVE_30_CNT > 0'), 'trans active')[0]"
   ]
  },
  {
   "cell_type": "code",
   "execution_count": 16,
   "metadata": {},
   "outputs": [],
   "source": [
    "# размер каждой когорты в разрезах типа клиентов\n",
    "cohort_active_size = cohort_analysis(df, 'active')[1].cohort_users[:-1]\n",
    "cohort_digital_active_size = cohort_analysis(df.query('DIGITAL_30_CNT > 0'), 'digital active')[1].cohort_users[:-1]\n",
    "cohort_oper_active_size = cohort_analysis(df.query('OPER_ACTIVE_30_CNT > 0'), 'oper active')[1].cohort_users[:-1]\n",
    "cohort_trans_active_size = cohort_analysis(df.query('TRAN_ACTIVE_30_CNT > 0'), 'trans active')[1].cohort_users[:-1]"
   ]
  },
  {
   "cell_type": "code",
   "execution_count": 17,
   "metadata": {},
   "outputs": [
    {
     "data": {
      "image/png": "[encoded data removed]",
      "text/plain": [
       "<Figure size 1080x1080 with 5 Axes>"
      ]
     },
     "metadata": {
      "needs_background": "light"
     },
     "output_type": "display_data"
    }
   ],
   "source": [
    "f, axs = plt.subplots(2, 2, sharex=True, figsize=(15, 15))\n",
    "# plt.tick_params(axis='both', which='major', labelsize=10, labelbottom = False, bottom=False, top = False, labeltop=True)\n",
    "f.text(0.5, .945, 'Retention (monthly)', ha='center', fontsize=14, fontweight='bold')\n",
    "f.text(.0, .5, 'Cohort (client\\'s first interaction)', va='center', fontsize=14, rotation='vertical', fontweight='bold')\n",
    "f.add_artist(plt.Line2D([0.087, .90], [0.91, 0.91], color='black', lw=1))\n",
    "f.add_artist(plt.Line2D([0.087, 0.087], [0.17, .91], color='black', lw=1))\n",
    "\n",
    "for i in range(2):\n",
    "  f.text(i * .4 + .125, .917, 'coh size', ha='center', fontsize=10)\n",
    "\n",
    "month = [1, 2, 3, 4, 5]\n",
    "for i in range(len(month)):\n",
    "  f.text(i * .064 + .185, .917, month[i], ha='center', fontsize=12, fontweight='bold')\n",
    "\n",
    "for i in range(len(month)):\n",
    "  f.text(i * .064 + .585, .92, month[i], ha='center', fontsize=12, fontweight='bold')  \n",
    "\n",
    "month_coh = ['Sep 21', 'Oct 21', 'Nov 21', 'Dec 21', 'Jan 22'][::-1]\n",
    "for i in range(5):\n",
    "  f.text(.082, i * .0645 + .223,  month_coh[i], ha='right', va='center', fontsize=12, fontweight='bold')\n",
    "\n",
    "for i in range(5):\n",
    "  f.text(.082, i * .0645 + .591, month_coh[i], ha='right', va='center', fontsize=12, fontweight='bold')  \n",
    "\n",
    "\n",
    "plt.yticks(rotation=0) \n",
    "yticks = cohort_active.index[:-1].strftime('%Y-%m-%d')\n",
    "g1 = sns.heatmap(cohort_active.iloc[:, 1:], cmap='RdYlGn', cbar=True, cbar_ax=f.add_axes([.91, .3, .03, .4]), ax=axs[0, 0], yticklabels=cohort_active_size, annot=True, square=True, vmin=0.5, vmax=1, fmt='.0%', annot_kws={\"fontsize\":12})\n",
    "g1.set_title('active clients')\n",
    "g1.tick_params(axis='both', which='major', labelsize=10, labelbottom = False, bottom=False, top = False, left=False, labeltop=False)\n",
    "g1.set_ylabel('')\n",
    "g1.set_xlabel('')\n",
    "g1.set_yticklabels(g1.get_yticklabels(), rotation=0)\n",
    "\n",
    "g2 = sns.heatmap(cohort_digital_active.iloc[:, 1:], cmap='RdYlGn', cbar=False, ax=axs[0, 1], yticklabels=cohort_digital_active_size, annot=True, square=True, vmin=0.5, vmax=1, fmt='.0%', annot_kws={\"fontsize\":12})\n",
    "g2.set_title('digital active clients')\n",
    "g2.tick_params(axis='both', which='major', labelsize=10, labelbottom = False, bottom=False, top = False, left=False, labeltop=False)\n",
    "g2.set_ylabel('')\n",
    "g2.set_xlabel('')\n",
    "g2.set_yticklabels(g2.get_yticklabels(), rotation=0)\n",
    "\n",
    "g3 = sns.heatmap(cohort_oper_active.iloc[:, 1:],  cmap='RdYlGn', cbar=False, ax=axs[1, 0], yticklabels=cohort_oper_active_size, annot=True, square=True, vmin=0.5, vmax=1, fmt='.0%', annot_kws={\"fontsize\":12})\n",
    "g3.set_title('oper active clients')\n",
    "g3.tick_params(axis='both', which='major', labelsize=10, labelbottom = False, bottom=False, top = False, left=False, labeltop=False)\n",
    "g3.set_ylabel('')\n",
    "g3.set_xlabel('')\n",
    "g3.set_yticklabels(g3.get_yticklabels(), rotation=0)\n",
    "\n",
    "g4 = sns.heatmap(cohort_trans_active.iloc[:, 1:],  cmap='RdYlGn', cbar=False, ax=axs[1, 1], yticklabels=cohort_trans_active_size, annot=True, square=True, vmin=0.5, vmax=1, fmt='.0%', annot_kws={\"fontsize\":12})\n",
    "g4.set_title('trans active clients')\n",
    "g4.tick_params(axis='both', which='major', labelsize=10, labelbottom = False, bottom=False, top = False, left=False, labeltop=False)\n",
    "g4.set_ylabel('')\n",
    "g4.set_xlabel('')\n",
    "g4.set_yticklabels(g4.get_yticklabels(), rotation=0)\n",
    "\n",
    "plt.subplots_adjust(hspace=-0.05, wspace=0.06)\n",
    "plt.show()"
   ]
  },
  {
   "attachments": {},
   "cell_type": "markdown",
   "metadata": {},
   "source": [
    "<a id='task_3_solution_output'></a>\n",
    "\n",
    "## Выводы на основе визуализации данных:\n",
    "\n",
    "В сентябре пришло самое большое кол-во пользователей, это прослеживается по всем типам активности. По сравнению с остальными периодами отличие в среднем грубо x7 - x15.  \n",
    "Также retention по сентябрьской когорте самый высокий.  \n",
    "\n",
    "Такие явные отклонения могут свидетельствовать о крупной маркетинговой компании в сентябре 21г по привлечению клиентов совместно с партнерами банка. В программе, вероятно, пользователям предоставлялись материальные поощрения при использовании моб. приложения (скидки/пониженные тарифы/повышенный кешбек/переводы без комиссии/беспроцентные рассрочки/скидки у партнеров и пр.) c длительным периодом действия - судя по retention от 5 месяцев и далее.  \n",
    "Это косвенно подтверждается операционной и транзакционной активностью пользователей сентябрьской когорты в последующие месяцы.\n",
    "\n",
    "Судя по тому, что у когорт, начиная с октября, резко снижается удержание в мобильном приложении, можно предположить, что кампания закончилась и клиенты, пришедшие в эти периоды, не мотивированы на его использование для совершения каких-либо операций. В лучшем случае клиенты просто проверяют баланс - это можно предположить исходя из того, что диджитал активность заметно выше, чем транзакционная и оперативная.\n",
    "\n",
    "В дополнение к этому можно предположить, что у приложения есть проблемы с UX/UI дизайном, или есть зависания, ошибки. Клиенты готовы с этим мириться только с учетом материальной выгоды, в противном случае они довольствуются офлайн услугами - ретеншн активных пользователей не так драматично изменяется.  \n",
    "В январьской когорте заметно улучшение показателя по всем статусам клиентов + рост самой кагорты - возможно, были внесены исправления в работу приложения, но данные за один месяц не позволяют делать такие выводы.\n",
    "\n",
    "Для подтверждения, опровержения и выработки новых гипотез необходима доп. информация от подразделений банка, отвечающих за маркетинговые компании, поддержку клиентов, и развитие мобильного приложения. Стоит выяснить портрет пользователя: возраст, пол, и прочие.\n",
    "\n",
    "<a id='task_3_solution_output2'></a>\n",
    "## Существенная часть клиентов  использует мобильное приложение, но не совершает транзакции (платежи и переводы) в нем.  \n",
    "<a id='task_3_solution_output21'></a>\n",
    "### Какие гипотезы такого поведения можно предположить?  \n",
    "- Клиенты используют приложение только для просмотра информации о своем балансе или услугах банка, но для совершения транзакций предпочитают другие каналы;  \n",
    "- Высокие комиссии за транзакции/операции;  \n",
    "- Некоторые клиенты не имеют необходимых на данный момент финансовых операций, но сохраняют приложение для будущих транзакций;  \n",
    "- Проблемы UX/UI (неудобный, непонятный интерфейс), технические проблемы (баги, зависания, медленное выполнение операций и прочее), высокие требования к скорости интернета;  \n",
    "- Клиенты не доверяют безопасности приложения.  \n",
    "\n",
    "<a id='task_3_solution_output22'></a>\n",
    "### Как их можно проверить?  \n",
    "- Исследовать поведение клиентов внутри приложения (Amplitude, Google Analytics, Y Metrica и прочие), чтобы выяснить, на каких этапах они отказываются от совершения транзакций;  \n",
    "- Анализировать данные о проблемах, связанных с использованием приложения, о которых пользователи сообщают в службу поддержки;  \n",
    "- Исследовать рынок и провести анализ конкурентов, чтобы выяснить, какие функции, услуги предоставляют другие приложения банков, которые клиенты могут использовать как альтернативу, сравнить тарифную политику;  \n",
    "- Провести тестирование пользовательского интерфейса (AB тесты): может помочь понять, как пользователи взаимодействуют с приложением и насколько легко им пользоваться.\n",
    "- Провести опрос среди клиентов, чтобы выяснить, почему они используют приложение, но не совершают в нем транзакции.  \n",
    "\n",
    "<a id='task_3_solution_output23'></a>\n",
    "### Как можно исправить эту ситуацию и увеличить проникновение транзакционно активных клиентов в диджитал активных?  \n",
    "- Улучшить пользовательский интерфейс (UX/UI), наладить процесс оптимизации интерфейса и предоставить более полезные функции;  \n",
    "- Предоставить бонусы, скидки и боле востребованные партнерские программы по сравнению с конкурентами;\n",
    "- Реклама и маркетинг: Чтобы привлечь больше клиентов, необходимо проводить рекламные и маркетинговые кампании. Можно использовать различные каналы, такие как социальные сети и поисковые системы, чтобы привлечь новых клиентов и повысить осведомленность о диджитал активах.\n"
   ]
  }
 ],
 "metadata": {
  "kernelspec": {
   "display_name": "base",
   "language": "python",
   "name": "python3"
  },
  "language_info": {
   "codemirror_mode": {
    "name": "ipython",
    "version": 3
   },
   "file_extension": ".py",
   "mimetype": "text/x-python",
   "name": "python",
   "nbconvert_exporter": "python",
   "pygments_lexer": "ipython3",
   "version": "3.9.12"
  },
  "orig_nbformat": 4
 },
 "nbformat": 4,
 "nbformat_minor": 2
}
